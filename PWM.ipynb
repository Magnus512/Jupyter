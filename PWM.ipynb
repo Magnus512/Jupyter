{
 "cells": [
  {
   "cell_type": "markdown",
   "metadata": {},
   "source": [
    "# Calculos para desfasaje PWM PCA9685"
   ]
  },
  {
   "cell_type": "code",
   "execution_count": 17,
   "metadata": {},
   "outputs": [],
   "source": [
    "import numpy as np"
   ]
  },
  {
   "cell_type": "markdown",
   "metadata": {},
   "source": [
    "## Primer PWM  \n",
    "El primer PWM incia con delay del 0%, con un ciclo ultil del 20% y tiempo de apagado de 80%:\n",
    "Tiempo de retardo 0% = 0 counts = 0x0  \n",
    "\n",
    "LED0_ON_H = 0x0;  \n",
    "LED0_OFF_L = 0x0;  \n",
    "\n",
    "Tiempo de encendido 80% -> 3276 counts, el dato a escribir en los registros LED_OFF_H y LED_OFF_L son los siguientes"
   ]
  },
  {
   "cell_type": "code",
   "execution_count": 29,
   "metadata": {},
   "outputs": [
    {
     "name": "stdout",
     "output_type": "stream",
     "text": [
      "3276.8\n",
      "3276\n",
      "Valor a escribir en el registro LED_OFF: CCC\n"
     ]
    }
   ],
   "source": [
    "resolution = 4096\n",
    "value1 = resolution * .80\n",
    "print(value1)\n",
    "LEDOFF = round(value1)-1\n",
    "print(LEDOFF)\n",
    "print(\"Valor a escribir en el registro LED_OFF:\", np.base_repr(LEDOFF,16))"
   ]
  },
  {
   "cell_type": "markdown",
   "metadata": {},
   "source": [
    "LED_OFF_H = 0xC;  \n",
    "LED_OFF_L = 0xCC;"
   ]
  },
  {
   "cell_type": "markdown",
   "metadata": {},
   "source": [
    "## Segundo PWM  \n",
    "El segundo PWM incia con un delay del 20%, un ciclo util del 80% y tiempo de apagado de 20%;  \n",
    "El delay time es de 819 counts restando 1"
   ]
  },
  {
   "cell_type": "code",
   "execution_count": 19,
   "metadata": {},
   "outputs": [
    {
     "name": "stdout",
     "output_type": "stream",
     "text": [
      "818\n"
     ]
    },
    {
     "data": {
      "text/plain": [
       "'332'"
      ]
     },
     "execution_count": 19,
     "metadata": {},
     "output_type": "execute_result"
    }
   ],
   "source": [
    "value2 = resolution * .20\n",
    "LED1ON = round(value2)-1\n",
    "print(LED1ON)\n",
    "np.base_repr(LED1ON,16)"
   ]
  },
  {
   "cell_type": "markdown",
   "metadata": {},
   "source": [
    "Este valor sera escrito en los registros LED1_ON  \n",
    "LED1_ON_H = 0x3;  \n",
    "LED1_ON_L = 0x32;  \n",
    "EL tiempo encendido sera entonces de 80% -> 3276.8 counts por lo que LED1_OFF = ((819 + 3276.8)-1)"
   ]
  },
  {
   "cell_type": "code",
   "execution_count": 20,
   "metadata": {},
   "outputs": [
    {
     "name": "stdout",
     "output_type": "stream",
     "text": [
      "4095\n"
     ]
    },
    {
     "data": {
      "text/plain": [
       "'FFF'"
      ]
     },
     "execution_count": 20,
     "metadata": {},
     "output_type": "execute_result"
    }
   ],
   "source": [
    "value3 = resolution * .80\n",
    "LED1OFF=((round(value2)+round(value3))-1)\n",
    "print(LED1OFF)\n",
    "np.base_repr(LED1OFF,16)"
   ]
  },
  {
   "cell_type": "markdown",
   "metadata": {},
   "source": [
    "El dato a escribir en los registros LED1_OFF_H y LED1_OFF_L son los siguientes  \n",
    "LED1_OFF_H=0xF;  \n",
    "LED1_OFF_L=0xFf;"
   ]
  },
  {
   "cell_type": "markdown",
   "metadata": {},
   "source": [
    "## Tercer PWM  \n",
    "Los valores del registro LED2_ON incian en el valor anterior con un delay time del 40%, un ciclo util del 20% y un tiempo de apagado del 80%;  \n",
    "LED2ON=round(4096*.40)-1  "
   ]
  },
  {
   "cell_type": "code",
   "execution_count": 21,
   "metadata": {},
   "outputs": [
    {
     "name": "stdout",
     "output_type": "stream",
     "text": [
      "1637\n"
     ]
    },
    {
     "data": {
      "text/plain": [
       "'665'"
      ]
     },
     "execution_count": 21,
     "metadata": {},
     "output_type": "execute_result"
    }
   ],
   "source": [
    "value4 = resolution * .40\n",
    "LED2ON=round(value4)-1\n",
    "print(LED2ON)\n",
    "np.base_repr(LED2ON,16)"
   ]
  },
  {
   "cell_type": "markdown",
   "metadata": {},
   "source": [
    "LED2_ON_H = 0x6;  \n",
    "LED2_ON_L = 0x65;  \n",
    "EL tiempo encendido sera entonces de 80% -> 3276.8 counts con un apagado de 20% por lo que LED2_OFF = ((1637+3276)=val-4096)"
   ]
  },
  {
   "cell_type": "code",
   "execution_count": 22,
   "metadata": {},
   "outputs": [
    {
     "name": "stdout",
     "output_type": "stream",
     "text": [
      "818\n"
     ]
    },
    {
     "data": {
      "text/plain": [
       "'332'"
      ]
     },
     "execution_count": 22,
     "metadata": {},
     "output_type": "execute_result"
    }
   ],
   "source": [
    "value5 = resolution * .80\n",
    "LED2OFF=((round(LED2ON)+round(value5))-4096)\n",
    "print(LED2OFF)\n",
    "np.base_repr(LED2OFF,16)"
   ]
  },
  {
   "cell_type": "markdown",
   "metadata": {},
   "source": [
    "Los valores hexadecimales anteriores son los valores a escribir en los registros:  \n",
    "LED2_OFF_H = 0x3;  \n",
    "LED2_OFF = 0x32;"
   ]
  },
  {
   "cell_type": "markdown",
   "metadata": {},
   "source": [
    "## Cuarto PWM  \n",
    "60% de retardo de incio, ciclo util de 20% y tiempo de apagado de 80%  \n",
    "LED3ON=round(4096*.60)-1  "
   ]
  },
  {
   "cell_type": "code",
   "execution_count": 23,
   "metadata": {},
   "outputs": [
    {
     "name": "stdout",
     "output_type": "stream",
     "text": [
      "2457\n"
     ]
    },
    {
     "data": {
      "text/plain": [
       "'999'"
      ]
     },
     "execution_count": 23,
     "metadata": {},
     "output_type": "execute_result"
    }
   ],
   "source": [
    "LED3ON=round(4096*.60)-1  \n",
    "print(LED3ON)\n",
    "np.base_repr(LED3ON,16)"
   ]
  },
  {
   "cell_type": "markdown",
   "metadata": {},
   "source": [
    "LED3_ON_H = 0x9;  \n",
    "LED3_ON_L = 0x99;  "
   ]
  },
  {
   "cell_type": "markdown",
   "metadata": {},
   "source": [
    "Valores para LED3_OFF:\n",
    "EL tiempo encendido sera entonces de 80% -> 3276.8 counts con un apagado de 20% por lo que LED2_OFF = ((2457+3276)=val-4096)"
   ]
  },
  {
   "cell_type": "code",
   "execution_count": 24,
   "metadata": {},
   "outputs": [
    {
     "name": "stdout",
     "output_type": "stream",
     "text": [
      "1638\n"
     ]
    },
    {
     "data": {
      "text/plain": [
       "'666'"
      ]
     },
     "execution_count": 24,
     "metadata": {},
     "output_type": "execute_result"
    }
   ],
   "source": [
    "value6 = resolution * .80\n",
    "LED3OFF=((round(LED3ON)+round(value6))-4096)\n",
    "print(LED3OFF)\n",
    "np.base_repr(LED3OFF,16)"
   ]
  },
  {
   "cell_type": "markdown",
   "metadata": {},
   "source": [
    "LED3_OFF_H = 0x6;  \n",
    "LED3_OFF = 0x66;"
   ]
  }
 ],
 "metadata": {
  "kernelspec": {
   "display_name": "Python 3",
   "language": "python",
   "name": "python3"
  },
  "language_info": {
   "codemirror_mode": {
    "name": "ipython",
    "version": 3
   },
   "file_extension": ".py",
   "mimetype": "text/x-python",
   "name": "python",
   "nbconvert_exporter": "python",
   "pygments_lexer": "ipython3",
   "version": "3.7.4"
  }
 },
 "nbformat": 4,
 "nbformat_minor": 4
}
