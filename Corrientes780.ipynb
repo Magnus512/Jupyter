{
 "cells": [
  {
   "cell_type": "code",
   "execution_count": 2,
   "metadata": {},
   "outputs": [
    {
     "name": "stdout",
     "output_type": "stream",
     "text": [
      "[1.77206897e-04 4.20809643e-01 8.39134250e-01 1.25700579e+00\n",
      " 1.67576411e+00 2.09487121e+00 2.51414761e+00 2.92863154e+00\n",
      " 3.34334568e+00 3.75929043e+00 4.17287521e+00 4.35513293e+00]\n",
      "[ 0.25844828  3.93442857  7.60175    11.26639286 14.94057143 18.61928571\n",
      " 22.30164286 25.94464286 29.59292857 33.25314286 36.89307143 38.49167857]\n",
      "[0.00049732 0.00056243 0.00145467 0.00241038 0.00278297 0.00403429\n",
      " 0.00475255 0.00640989 0.00724041 0.00792246 0.0076482  0.00103695]\n"
     ]
    },
    {
     "data": {
      "image/png": "[encoded data removed]",
      "text/plain": [
       "<Figure size 720x360 with 1 Axes>"
      ]
     },
     "metadata": {
      "needs_background": "light"
     },
     "output_type": "display_data"
    }
   ],
   "source": [
    "#Importar librerias\n",
    "import pandas as pd\n",
    "import numpy as np\n",
    "import matplotlib.pyplot as plt\n",
    "#import scipy\n",
    "\n",
    "dataframe=pd.read_csv('Files/780nuevo.csv')\n",
    "\n",
    "#print(dataframe)\n",
    "\n",
    "tiempo = dataframe['Tiempo']\n",
    "corriente = dataframe['Corriente']\n",
    "voltaje = dataframe['Voltaje']\n",
    "\n",
    "corriente = corriente*1000\n",
    "\n",
    "#Separamos todos los voltajes\n",
    "voltaje1 = voltaje[1:30:1]\n",
    "voltaje2 = voltaje[32:60:1]\n",
    "voltaje3 = voltaje[62:90:1]\n",
    "voltaje4 = voltaje[92:120:1]\n",
    "voltaje5 = voltaje[122:150:1]\n",
    "voltaje6 = voltaje[152:180:1]\n",
    "voltaje7 = voltaje[182:210:1]\n",
    "voltaje8 = voltaje[212:240:1]\n",
    "voltaje9 = voltaje[242:270:1]\n",
    "voltaje10 = voltaje[272:300:1]\n",
    "voltaje11 = voltaje[302:330:1]\n",
    "voltaje12 = voltaje[332:360:1]\n",
    "\n",
    "#Separamos todas las corrientes\n",
    "corriente1 = corriente[1:30:1]\n",
    "corriente2 = corriente[32:60:1]\n",
    "corriente3 = corriente[62:90:1]\n",
    "corriente4 = corriente[92:120:1]\n",
    "corriente5 = corriente[122:150:1]\n",
    "corriente6 = corriente[152:180:1]\n",
    "corriente7 = corriente[182:210:1]\n",
    "corriente8 = corriente[212:240:1]\n",
    "corriente9 = corriente[242:270:1]\n",
    "corriente10 = corriente[272:300:1]\n",
    "corriente11 = corriente[302:330:1]\n",
    "corriente12 = corriente[332:360:1]\n",
    "\n",
    "#valores medios y deviaciones estandar\n",
    "#voltaje\n",
    "voltajemed1 = np.mean(voltaje1)\n",
    "voltajemed2 = np.mean(voltaje2)\n",
    "voltajemed3 = np.mean(voltaje3)\n",
    "voltajemed4 = np.mean(voltaje4)\n",
    "voltajemed5 = np.mean(voltaje5)\n",
    "voltajemed6 = np.mean(voltaje6)\n",
    "voltajemed7 = np.mean(voltaje7)\n",
    "voltajemed8 = np.mean(voltaje8)\n",
    "voltajemed9 = np.mean(voltaje9)\n",
    "voltajemed10 = np.mean(voltaje10)\n",
    "voltajemed11 = np.mean(voltaje11)\n",
    "voltajemed12 = np.mean(voltaje12)\n",
    "\n",
    "#Corrientes\n",
    "corrientemed1 = np.mean(corriente1)\n",
    "corrientemed2 = np.mean(corriente2)\n",
    "corrientemed3 = np.mean(corriente3)\n",
    "corrientemed4 = np.mean(corriente4)\n",
    "corrientemed5 = np.mean(corriente5)\n",
    "corrientemed6 = np.mean(corriente6)\n",
    "corrientemed7 = np.mean(corriente7)\n",
    "corrientemed8 = np.mean(corriente8)\n",
    "corrientemed9 = np.mean(corriente9)\n",
    "corrientemed10 = np.mean(corriente10)\n",
    "corrientemed11 = np.mean(corriente11)\n",
    "corrientemed12 = np.mean(corriente12)\n",
    "\n",
    "#Desvi Corrientes\n",
    "desvcorr1 = np.std(corriente1)\n",
    "desvcorr2 = np.std(corriente2)\n",
    "desvcorr3 = np.std(corriente3)\n",
    "desvcorr4 = np.std(corriente4)\n",
    "desvcorr5 = np.std(corriente5)\n",
    "desvcorr6 = np.std(corriente6)\n",
    "desvcorr7 = np.std(corriente7)\n",
    "desvcorr8 = np.std(corriente8)\n",
    "desvcorr9 = np.std(corriente9)\n",
    "desvcorr10 = np.std(corriente10)\n",
    "desvcorr11 = np.std(corriente11)\n",
    "desvcorr12 = np.std(corriente12)\n",
    "\n",
    "#arreglos\n",
    "voltajes = np.array([voltajemed1, voltajemed2, voltajemed3, voltajemed4, voltajemed5, voltajemed6, voltajemed7, voltajemed8, voltajemed9, voltajemed10, voltajemed11, voltajemed12])\n",
    "corrientes = np.array([corrientemed1, corrientemed2, corrientemed3, corrientemed4, corrientemed5, corrientemed6, corrientemed7, corrientemed8, corrientemed9, corrientemed10, corrientemed11, corrientemed12])\n",
    "desvcorrientes = np.array([desvcorr1, desvcorr2, desvcorr3, desvcorr4, desvcorr5, desvcorr6, desvcorr7, desvcorr8, desvcorr9, desvcorr10, desvcorr11, desvcorr12])\n",
    "print(voltajes)\n",
    "print(corrientes)\n",
    "print(desvcorrientes)\n",
    "plt.figure(figsize=(10,5))\n",
    "plt.errorbar(voltajes, corrientes, yerr=desvcorrientes)\n",
    "plt.show()"
   ]
  },
  {
   "cell_type": "code",
   "execution_count": null,
   "metadata": {},
   "outputs": [],
   "source": []
  }
 ],
 "metadata": {
  "kernelspec": {
   "display_name": "Python 3",
   "language": "python",
   "name": "python3"
  },
  "language_info": {
   "codemirror_mode": {
    "name": "ipython",
    "version": 3
   },
   "file_extension": ".py",
   "mimetype": "text/x-python",
   "name": "python",
   "nbconvert_exporter": "python",
   "pygments_lexer": "ipython3",
   "version": "3.7.4"
  }
 },
 "nbformat": 4,
 "nbformat_minor": 4
}
