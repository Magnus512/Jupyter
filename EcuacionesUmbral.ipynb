{
 "cells": [
  {
   "cell_type": "code",
   "execution_count": 3,
   "metadata": {},
   "outputs": [
    {
     "name": "stdout",
     "output_type": "stream",
     "text": [
      "[39.3737375   0.06731602]\n"
     ]
    }
   ],
   "source": [
    "import numpy as np\n",
    "\n",
    "# Solving following system of linear equation\n",
    "# 1a + 1b = 35\n",
    "# 2a + 4b = 94\n",
    "\n",
    "a = np.array([[-0.03, 7],[-5.59,6.97]])\n",
    "b = np.array([-0.71, -219.63])\n",
    "\n",
    "print(np.linalg.solve(a,b))"
   ]
  },
  {
   "cell_type": "code",
   "execution_count": 4,
   "metadata": {},
   "outputs": [
    {
     "name": "stdout",
     "output_type": "stream",
     "text": [
      "[35.93971631  0.07586719]\n"
     ]
    }
   ],
   "source": [
    "a = np.array([[-0.02, 6.97],[-5.66,6.97]])\n",
    "b = np.array([-0.19, -202.89])\n",
    "\n",
    "print(np.linalg.solve(a,b))"
   ]
  },
  {
   "cell_type": "code",
   "execution_count": null,
   "metadata": {},
   "outputs": [],
   "source": []
  }
 ],
 "metadata": {
  "kernelspec": {
   "display_name": "Python 3",
   "language": "python",
   "name": "python3"
  },
  "language_info": {
   "codemirror_mode": {
    "name": "ipython",
    "version": 3
   },
   "file_extension": ".py",
   "mimetype": "text/x-python",
   "name": "python",
   "nbconvert_exporter": "python",
   "pygments_lexer": "ipython3",
   "version": "3.7.5rc1"
  }
 },
 "nbformat": 4,
 "nbformat_minor": 4
}
