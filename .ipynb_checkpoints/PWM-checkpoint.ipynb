{
 "cells": [
  {
   "cell_type": "markdown",
   "metadata": {},
   "source": [
    "# Calculos para desfasaje PWM PCA9685"
   ]
  },
  {
   "cell_type": "markdown",
   "metadata": {},
   "source": [
    "## Primer PWM\n",
    "El primer PWM incia con delay del 0%, con un ciclo ultil del 20% y tiempo de apagado de 80%:\n",
    "Tiempo de retardo 0% = 0 counts = 0x0 \n",
    "\n",
    "LED0_ON_H = 0x0;  \n",
    "LED0_OFF_L = 0x0; \n",
    "\n",
    "Tiempo de encendido 20% -> 819.20 counts, el dato a escribir en los registros LED_OFF_H y LED_OFF_L son los siguientes"
   ]
  },
  {
   "cell_type": "code",
   "execution_count": 32,
   "metadata": {},
   "outputs": [
    {
     "name": "stdout",
     "output_type": "stream",
     "text": [
      "818\n"
     ]
    },
    {
     "data": {
      "text/plain": [
       "'332'"
      ]
     },
     "execution_count": 32,
     "metadata": {},
     "output_type": "execute_result"
    }
   ],
   "source": [
    "import numpy as np\n",
    "LEDOFF=round(819.2)-1\n",
    "print(LEDOFF)\n",
    "np.base_repr(LEDOFF,16)"
   ]
  },
  {
   "cell_type": "markdown",
   "metadata": {},
   "source": [
    "LED_OFF_H = 0x3;  \n",
    "LED_OFF_L = 0x32;"
   ]
  },
  {
   "cell_type": "markdown",
   "metadata": {},
   "source": [
    "## Segundo PWM\n",
    "El segundo PWM incia con un delay del 20%, un ciclo util del 20% y tiempo de apagado de 80%;\n",
    "El delay time es de 819 counts restando 1"
   ]
  },
  {
   "cell_type": "code",
   "execution_count": 33,
   "metadata": {},
   "outputs": [
    {
     "data": {
      "text/plain": [
       "'332'"
      ]
     },
     "execution_count": 33,
     "metadata": {},
     "output_type": "execute_result"
    }
   ],
   "source": [
    "LED1ON=round(819.2)-1\n",
    "np.base_repr(LED1ON,16)"
   ]
  },
  {
   "cell_type": "markdown",
   "metadata": {},
   "source": [
    "Este valor sera escrito en los registros LED1_ON  \n",
    "LED1_ON_H = 0x3;    \n",
    "LED1_ON_L = 0x32;    \n",
    "EL tiempo encendido sera entonces de 20% -> 819.2 counts por lo que LED1_OFF = ((819 + 819)-1)"
   ]
  },
  {
   "cell_type": "code",
   "execution_count": 34,
   "metadata": {},
   "outputs": [
    {
     "name": "stdout",
     "output_type": "stream",
     "text": [
      "1636\n"
     ]
    },
    {
     "data": {
      "text/plain": [
       "'664'"
      ]
     },
     "execution_count": 34,
     "metadata": {},
     "output_type": "execute_result"
    }
   ],
   "source": [
    "LED1OFF=((LED1ON+round(819.2))-1)\n",
    "print(LED1OFF)\n",
    "np.base_repr(LED1OFF,16)"
   ]
  },
  {
   "cell_type": "markdown",
   "metadata": {},
   "source": [
    "El dato a escribir en los registros LED1_OFF_H y LED1_OFF_L son los siguientes  \n",
    "LED1_OFF_H=0x6;  \n",
    "LED1_OFF_L=0x64;"
   ]
  },
  {
   "cell_type": "markdown",
   "metadata": {},
   "source": [
    "## Tercer PWM  \n",
    "Los valores del registro LED2_ON incian en el valor anterior con un delay time del 40%, un ciclo util del 20% y un tiempo de apagado del 80%;  \n",
    "LED2ON=round(4096*.40)-1  "
   ]
  },
  {
   "cell_type": "code",
   "execution_count": 35,
   "metadata": {},
   "outputs": [
    {
     "name": "stdout",
     "output_type": "stream",
     "text": [
      "1637\n"
     ]
    },
    {
     "data": {
      "text/plain": [
       "'665'"
      ]
     },
     "execution_count": 35,
     "metadata": {},
     "output_type": "execute_result"
    }
   ],
   "source": [
    "LED2ON=round(4096*.40)-1\n",
    "print(LED2ON)\n",
    "np.base_repr(LED2ON,16)"
   ]
  },
  {
   "cell_type": "markdown",
   "metadata": {},
   "source": [
    "LED2_ON_H = 0x6;    \n",
    "LED2_ON_L = 0x65;   \n",
    "EL tiempo encendido sera entonces de 20% -> 819.2 counts por lo que LED2_OFF = ((1638.4 + 819.2)-1)"
   ]
  },
  {
   "cell_type": "code",
   "execution_count": 36,
   "metadata": {},
   "outputs": [
    {
     "name": "stdout",
     "output_type": "stream",
     "text": [
      "2455\n"
     ]
    },
    {
     "data": {
      "text/plain": [
       "'997'"
      ]
     },
     "execution_count": 36,
     "metadata": {},
     "output_type": "execute_result"
    }
   ],
   "source": [
    "LED2OFF=(round(LED2ON+819.2)-1)\n",
    "print(LED2OFF)\n",
    "np.base_repr(LED2OFF,16)"
   ]
  },
  {
   "cell_type": "markdown",
   "metadata": {},
   "source": [
    "Los valores hexadecimales anteriores son los valores a escribir en los registros \n",
    "LED2_OFF_H = 0x9;   \n",
    "LED2_OFF = 0x97;"
   ]
  },
  {
   "cell_type": "markdown",
   "metadata": {},
   "source": [
    "# Cuarto PWM  \n",
    "60% de retardo de incio, ciclo util de 20% y tiempo de apagado de 80%  \n",
    "LED3ON=round(4096*.60)-1  "
   ]
  },
  {
   "cell_type": "code",
   "execution_count": 37,
   "metadata": {},
   "outputs": [
    {
     "name": "stdout",
     "output_type": "stream",
     "text": [
      "2457\n"
     ]
    },
    {
     "data": {
      "text/plain": [
       "'999'"
      ]
     },
     "execution_count": 37,
     "metadata": {},
     "output_type": "execute_result"
    }
   ],
   "source": [
    "LED3ON=round(4096*.60)-1  \n",
    "print(LED3ON)\n",
    "np.base_repr(LED3ON,16)"
   ]
  },
  {
   "cell_type": "markdown",
   "metadata": {},
   "source": [
    "LED3_ON_H = 0x9;  \n",
    "LED3_ON_L = 0x99;  "
   ]
  },
  {
   "cell_type": "markdown",
   "metadata": {},
   "source": [
    "Valores para LED3_OFF:"
   ]
  },
  {
   "cell_type": "code",
   "execution_count": 38,
   "metadata": {},
   "outputs": [
    {
     "name": "stdout",
     "output_type": "stream",
     "text": [
      "3275\n"
     ]
    },
    {
     "data": {
      "text/plain": [
       "'CCB'"
      ]
     },
     "execution_count": 38,
     "metadata": {},
     "output_type": "execute_result"
    }
   ],
   "source": [
    "LED3OFF=(round(LED3ON+819.2)-1)\n",
    "print(LED3OFF)\n",
    "np.base_repr(LED3OFF,16)"
   ]
  },
  {
   "cell_type": "markdown",
   "metadata": {},
   "source": [
    "LED3_OFF_H = 0xC;   \n",
    "LED3_OFF = 0xCB;"
   ]
  }
 ],
 "metadata": {
  "kernelspec": {
   "display_name": "Python 3",
   "language": "python",
   "name": "python3"
  },
  "language_info": {
   "codemirror_mode": {
    "name": "ipython",
    "version": 3
   },
   "file_extension": ".py",
   "mimetype": "text/x-python",
   "name": "python",
   "nbconvert_exporter": "python",
   "pygments_lexer": "ipython3",
   "version": "3.7.2"
  }
 },
 "nbformat": 4,
 "nbformat_minor": 2
}
