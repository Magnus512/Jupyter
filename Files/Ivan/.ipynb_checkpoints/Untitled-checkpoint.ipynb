{
 "cells": [
  {
   "cell_type": "code",
   "execution_count": 10,
   "metadata": {},
   "outputs": [
    {
     "ename": "ERROR",
     "evalue": "Error in library(quantmod): there is no package called ‘quantmod’\n",
     "output_type": "error",
     "traceback": [
      "Error in library(quantmod): there is no package called ‘quantmod’\nTraceback:\n",
      "1. library(quantmod)",
      "2. stop(txt, domain = NA)"
     ]
    }
   ],
   "source": [
    "library(quantmod)\n",
    "library(xts)\n",
    "library(zoo)\n",
    "x <- seq(0, 1, len = 1024)\n",
    "pos <- c(0.1, 0.13, 0.15, 0.23, 0.25, 0.40, 0.44, 0.65, 0.76, 0.78, 0.81)\n",
    "hgt <- c(4, 5, 3, 4, 5, 4.2, 2.1, 4.3, 3.1, 5.1, 4.2)\n",
    "wdt <- c(0.005, 0.005, 0.006, 0.01, 0.01, 0.03, 0.01, 0.01, 0.005, 0.008, 0.005)\n",
    "\n",
    "pSignal <- numeric(length(x))\n",
    "for (i in seq(along=pos)) {\n",
    "    pSignal <- pSignal + hgt[i]/(1 + abs((x - pos[i])/wdt[i]))^4\n",
    "}\n",
    "findpeaks(pSignal, npeaks=3, threshold=4, sortstr=TRUE)"
   ]
  },
  {
   "cell_type": "code",
   "execution_count": null,
   "metadata": {},
   "outputs": [],
   "source": []
  },
  {
   "cell_type": "code",
   "execution_count": null,
   "metadata": {},
   "outputs": [],
   "source": []
  }
 ],
 "metadata": {
  "kernelspec": {
   "display_name": "R",
   "language": "R",
   "name": "ir"
  },
  "language_info": {
   "codemirror_mode": "r",
   "file_extension": ".r",
   "mimetype": "text/x-r-source",
   "name": "R",
   "pygments_lexer": "r",
   "version": "3.5.2"
  }
 },
 "nbformat": 4,
 "nbformat_minor": 2
}
